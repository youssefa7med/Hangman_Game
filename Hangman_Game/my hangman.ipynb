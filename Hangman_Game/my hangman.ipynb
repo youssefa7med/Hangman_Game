{
 "cells": [
  {
   "cell_type": "code",
   "execution_count": 1,
   "id": "10a5345e",
   "metadata": {},
   "outputs": [],
   "source": [
    "someWords = '''apple banana mango strawberry\n",
    "orange grape pineapple apricot lemon coconut watermelon \n",
    "cherry papaya berry peach lychee muskmelon'''\n",
    "\n",
    "l = [ 'zebra' , 'cobra' , 'stork' , 'penguin' , 'shark' , 'lion' , 'buffalo' , 'whale' , 'seal']\n",
    "import random\n",
    "\n",
    "someWords = someWords.replace('\\n',' ')\n",
    "someWords = someWords.split(' ')\n",
    "\n",
    "resultwords = []\n",
    "for i in range (len(someWords)):\n",
    "    if someWords[i] != '' : \n",
    "        resultwords.append(someWords[i])"
   ]
  },
  {
   "cell_type": "code",
   "execution_count": 2,
   "id": "a4ec27c0",
   "metadata": {},
   "outputs": [],
   "source": [
    "def hangman(listo):\n",
    "    \n",
    "    try:\n",
    "\n",
    "        name = input(\"\"\"Hello ! my name is gogo 😁 and I'am here to help u \\n\n",
    "                        what is ur name !\\n\"\"\")\n",
    "        print(f\"\"\"Hello {name} ! \\n\n",
    "                  let's play hangman \"\"\")\n",
    "\n",
    "        while True:\n",
    "            word = random.choice(listo)\n",
    "            print(word)\n",
    "            result = list(\"_\"*len(word))\n",
    "            try:\n",
    "                difficulty_level = int(input(f\"\"\"pls input chosse which diffculty level u want :\n",
    "                                                 1- easy   \\' that give u {len(word)+2} chances to try it\\' \n",
    "                                                 2- mediem \\' that give u {len(word)+1} chances to try it\\'\n",
    "                                                 3- hard   \\' that give u {len(word)} chances to try it\\'\n",
    "                                                 \"\"\"))\n",
    "            except ValueError:\n",
    "\n",
    "                print(\"pls enter diffculty level as one number from 1,2 and 3 as u want and try again.\")\n",
    "\n",
    "                break\n",
    "\n",
    "            if difficulty_level == 1 :\n",
    "                chances = len(word) + 2\n",
    "                print(f\"u choose easy level and u have {len(word)+2} chances to try\")\n",
    "\n",
    "            elif difficulty_level == 2 :\n",
    "                chances = len(word) + 1\n",
    "                print(f\"u choose mediem level and u have {len(word)+1} chances to try\")\n",
    "\n",
    "            elif difficulty_level == 3 :\n",
    "                chances = len(word)\n",
    "                print(f\"u choose hard level and u have {len(word)} chances to try\")\n",
    "\n",
    "\n",
    "\n",
    "            for i in range(chances):\n",
    "\n",
    "                print(' '.join(result))\n",
    "                char_user = input('pls enter ur char u guessed : ')\n",
    "\n",
    "                if len(char_user) != 1:\n",
    "                    print(\"pls enter 1 char only \")\n",
    "\n",
    "                elif not(char_user.isalpha()):\n",
    "                    print(\"pls enter 1 alpha char only \")\n",
    "\n",
    "                else:\n",
    "\n",
    "                    for i in range (len(word)):\n",
    "                        if char_user == word[i]:\n",
    "                            result[i] = word[i]\n",
    "\n",
    "                    if ''.join(result) == word:\n",
    "                        print(' '.join(result))\n",
    "                        print(f\"\\n Good job u won :) and the right word was {word}\\n \")\n",
    "                        print('-'*50)\n",
    "                        break\n",
    "\n",
    "            else:\n",
    "                print(f\"sorry used all ur chances pls try again and the word was {word}\\n\")\n",
    "                print('-'*50)\n",
    "\n",
    "            play_again = input(\"Do u want to play again ? \")\n",
    "\n",
    "            if play_again.lower() == 'no':\n",
    "                \n",
    "                print(\"Good bye see u soon . \")\n",
    "                break\n",
    "    except KeyboardInterrupt:\n",
    "        print('Bye! Try again.')"
   ]
  },
  {
   "cell_type": "code",
   "execution_count": null,
   "id": "61260260",
   "metadata": {},
   "outputs": [
    {
     "name": "stdout",
     "output_type": "stream",
     "text": [
      "Hello ! my name is gogo 😁 and I'am here to help u \n",
      "\n",
      "                        what is ur name !soso\n",
      "Hello soso ! \n",
      "\n",
      "                  let's play hangman \n",
      "cobra\n"
     ]
    }
   ],
   "source": [
    "hangman(l)"
   ]
  },
  {
   "cell_type": "code",
   "execution_count": 30,
   "id": "00248cc2",
   "metadata": {},
   "outputs": [
    {
     "name": "stdout",
     "output_type": "stream",
     "text": [
      "_ _ _ _ _ _ _ _ _ _ _ _ \n",
      "pls enter ur char u guessed : w\n"
     ]
    }
   ],
   "source": [
    "result = list(\"_\"*len(word))\n",
    "print('_ ' *(len(word)+2))\n",
    "char = input(\"pls enter ur char u guessed : \")\n",
    "# for char in (word):\n",
    "#     if char == char_user:\n",
    "#         print()\n",
    "for i in range(len(word)):\n",
    "    if word[i].lower() == char.lower():\n",
    "        result[i] = word[i]"
   ]
  },
  {
   "cell_type": "code",
   "execution_count": 31,
   "id": "bc1e3bdd",
   "metadata": {},
   "outputs": [
    {
     "name": "stdout",
     "output_type": "stream",
     "text": [
      "w _ _ _ _ _ _ _ _ _\n",
      "Guess a single letter o\n",
      "w _ _ _ _ _ _ _ _ _\n",
      "Guess a single letter t\n",
      "w _ _ _ _ _ _ _ _ _\n",
      "Guess a single letter \n",
      "w _ _ _ _ _ _ _ _ _\n",
      "Guess a single letter \n",
      "w _ _ _ _ _ _ _ _ _\n",
      "Guess a single letter \n",
      "w _ _ _ _ _ _ _ _ _\n",
      "Guess a single letter \n",
      "w _ _ _ _ _ _ _ _ _\n",
      "Guess a single letter \n",
      "w _ _ _ _ _ _ _ _ _\n",
      "Guess a single letter \n",
      "w _ _ _ _ _ _ _ _ _\n",
      "Guess a single letter \n",
      "w _ _ _ _ _ _ _ _ _\n",
      "Guess a single letter \n",
      "w _ _ _ _ _ _ _ _ _\n",
      "Guess a single letter \n",
      "w _ _ _ _ _ _ _ _ _\n",
      "Guess a single letter \n"
     ]
    }
   ],
   "source": [
    "for j in range(len(word)+2):\n",
    "    print(\" \".join(result))\n",
    "    char = input(\"Guess a single letter \")"
   ]
  },
  {
   "cell_type": "code",
   "execution_count": null,
   "id": "6c664f2d",
   "metadata": {},
   "outputs": [],
   "source": []
  }
 ],
 "metadata": {
  "kernelspec": {
   "display_name": "Python 3 (ipykernel)",
   "language": "python",
   "name": "python3"
  },
  "language_info": {
   "codemirror_mode": {
    "name": "ipython",
    "version": 3
   },
   "file_extension": ".py",
   "mimetype": "text/x-python",
   "name": "python",
   "nbconvert_exporter": "python",
   "pygments_lexer": "ipython3",
   "version": "3.11.3"
  }
 },
 "nbformat": 4,
 "nbformat_minor": 5
}
